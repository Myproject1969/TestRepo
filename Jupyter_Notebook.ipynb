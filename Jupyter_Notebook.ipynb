{
 "cells": [
  {
   "cell_type": "markdown",
   "metadata": {},
   "source": [
    "<center>\n",
    "    <img src=\"https://cf-courses-data.s3.us.cloud-object-storage.appdomain.cloud/IBMDeveloperSkillsNetwork-DS0105EN-SkillsNetwork/labs/Module2/images/SN_web_lightmode.png\" width=\"300\" alt=\"cognitiveclass.ai logo\">\n",
    "</center>\n"
   ]
  },
  {
   "cell_type": "code",
   "execution_count": null,
   "metadata": {},
   "outputs": [],
   "source": [
    "Data Science Tools and Ecosystem"
   ]
  },
  {
   "cell_type": "markdown",
   "metadata": {},
   "source": [
    "#### Add your code below following the instructions given in the course\n",
    "\n",
    "# 📘 Notebook Title: Data Analysis and Visualization Project\n",
    "\n",
    "## 🧭 Introduction\n",
    "\n",
    "Welcome to this data analysis and visualization project! In this notebook, we will explore a dataset, perform data cleaning and transformation, conduct exploratory data analysis (EDA), and create insightful visualizations to uncover patterns and trends.\n",
    "\n",
    "The goal of this project is to derive meaningful insights from the data and present them in a clear and compelling way. Whether you're a data enthusiast, a student, or a professional, this notebook is designed to guide you through the analytical process step by step.\n",
    "\n",
    "Let's dive in!\n",
    "\n",
    "## 🧪 Common Programming Languages in Data Science\n",
    "\n",
    "Data science involves a variety of programming languages, each with its own strengths and use cases. Here are some of the most widely used:\n",
    "\n",
    "- **Python** 🐍 – Known for its simplicity and vast ecosystem of libraries like NumPy, pandas, scikit-learn, TensorFlow, and Matplotlib.\n",
    "- **R** 📊 – Excellent for statistical analysis and data visualization, with packages like ggplot2, dplyr, and caret.\n",
    "- **SQL** 🗃️ – Essential for querying and managing data stored in relational databases.\n",
    "- **Julia** ⚡ – Gaining popularity for high-performance numerical computing and data science tasks.\n",
    "- **Scala** 🔁 – Often used with Apache Spark for big data processing.\n",
    "- **Java** ☕ – Used in large-scale data processing frameworks and enterprise-level applications.\n",
    "- **MATLAB** 📐 – Common in academia and engineering for numerical computing and simulations.\n",
    "\n",
    "Each language has its niche, and the choice often depends on the specific requirements of the project.\n",
    "## 📚 Popular Data Science Libraries\n",
    "\n",
    "Data science relies heavily on powerful libraries that simplify complex tasks such as data manipulation, analysis, visualization, and machine learning. Here are some of the most widely used libraries:\n",
    "\n",
    "### 🔢 Data Manipulation & Analysis\n",
    "- **pandas** – Data structures and data analysis tools.\n",
    "- **NumPy** – Support for large, multi-dimensional arrays and matrices.\n",
    "- **Dask** – Parallel computing with pandas-like syntax for big data.\n",
    "\n",
    "### 📊 Data Visualization\n",
    "- **Matplotlib** – Basic plotting and charting.\n",
    "- **Seaborn** – Statistical data visualization built on top of Matplotlib.\n",
    "- **Plotly** – Interactive, web-based visualizations.\n",
    "- **Altair** – Declarative statistical visualization library.\n",
    "\n",
    "### 🤖 Machine Learning & AI\n",
    "- **scikit-learn** – Simple and efficient tools for data mining and machine learning.\n",
    "- **TensorFlow** – End-to-end open-source platform for machine learning.\n",
    "- **PyTorch** – Deep learning framework with dynamic computation graphs.\n",
    "- **XGBoost / LightGBM** – High-performance gradient boosting frameworks.\n",
    "\n",
    "### 🧪 Statistical Analysis\n",
    "- **SciPy** – Scientific and technical computing.\n",
    "- **Statsmodels** – Estimation of statistical models and tests.\n",
    "\n",
    "### 🌐 Natural Language Processing\n",
    "- **NLTK** – Tools for working with human language data.\n",
    "- **spaCy** – Industrial-strength NLP library.\n",
    "- **Transformers (by Hugging Face)** – Pretrained models for NLP tasks.\n",
    "\n",
    "These libraries form the backbone of most data science workflows and are widely supported by the community.\n",
    "### Data Science Tools\n",
    "\n",
    "| Tool Name       | Category             | Description                                                                 |\n",
    "|----------------|----------------------|-----------------------------------------------------------------------------|\n",
    "| Jupyter Notebook | IDE/Notebook         | Web-based interactive computing environment for creating and sharing code. |\n",
    "| RStudio         | IDE                  | Integrated development environment for R programming.                      |\n",
    "| TensorFlow      | Machine Learning     | Open-source library for numerical computation and machine learning.        |\n",
    "| PyTorch         | Machine Learning     | Deep learning framework developed by Facebook.                             |\n",
    "| Scikit-learn    | Machine Learning     | Simple and efficient tools for data mining and data analysis in Python.    |\n",
    "| Pandas          | Data Manipulation    | Python library for data manipulation and analysis.                         |\n",
    "| NumPy           | Scientific Computing | Fundamental package for numerical computations in Python.                  |\n",
    "| Matplotlib      | Data Visualization   | Plotting library for creating static, animated, and interactive visualizations. |\n",
    "| Tableau         | Data Visualization   | Powerful, interactive data visualization software.                         |\n",
    "| Apache Spark    | Big Data Processing  | Unified analytics engine for large-scale data processing.                  |\n",
    "## Introduction to Arithmetic Expressions\n",
    "\n",
    "Arithmetic expressions are mathematical phrases that use numbers, operators, and sometimes parentheses to represent a value. These expressions are fundamental in mathematics and programming, as they allow us to perform calculations and solve problems.\n",
    "\n",
    "### Common Arithmetic Operators:\n",
    "- `+` : Addition\n",
    "- `-` : Subtraction\n",
    "- `*` : Multiplication\n",
    "- `/` : Division\n",
    "- `**` : Exponentiation\n",
    "- `%` : Modulus (remainder)\n",
    "\n",
    "### Example Expressions:\n",
    "- `3 + 5` → Adds 3 and 5\n",
    "- `10 - 2` → Subtracts 2 from 10\n",
    "- `4 * 7` → Multiplies 4 by 7\n",
    "- `20 / 4` → Divides 20 by 4\n",
    "- `2 ** 3` → Raises 2 to the power of 3\n",
    "- `10 % 3` → Finds the remainder when 10 is divided by 3\n",
    "\n",
    "These examples demonstrate how arithmetic expressions are constructed and evaluated. In the following\n",
    "# Define numbers\n",
    "a = 6\n",
    "b = 4\n",
    "c = 3\n",
    "\n",
    "# Perform multiplication and addition\n",
    "product = a * b\n",
    "sum_result = product + c\n",
    "\n",
    "# Display the results\n",
    "print(\"Multiplication result (a * b):\", product)\n",
    "print(\"Final result (a * b + c):\", sum_result)\n"
   ]
  },
  {
   "cell_type": "code",
   "execution_count": null,
   "metadata": {},
   "outputs": [],
   "source": [
    "# Define the number of minutes\n",
    "minutes = 150\n",
    "\n",
    "# Convert minutes to hours\n",
    "hours = minutes / 60\n",
    "\n",
    "# Display the result\n",
    "print(f\"{minutes} minutes is equal to {hours} hours.\")\n"
   ]
  },
  {
   "cell_type": "code",
   "execution_count": null,
   "metadata": {},
   "outputs": [],
   "source": [
    "# 🧠 Data Science Tools and Ecosystem\n"
   ]
  },
  {
   "cell_type": "markdown",
   "metadata": {
    "scrolled": true
   },
   "source": [
    "### 👋  Introduction.\n",
    "\n",
    "In this notebook, Data Science Tools and Ecosystem are summarized.\n",
    "\n",
    "\n",
    "- Key programming languages like Python and R\n",
    "- Essential libraries for manipulating and visualizing data\n",
    "- Tools and techniques for building and evaluating models\n",
    "- Real-world examples to apply your knowledge\n",
    "\n",
    "Let’s dive into the world of data, one cell at a time!\n"
   ]
  },
  {
   "cell_type": "code",
   "execution_count": null,
   "metadata": {},
   "outputs": [],
   "source": [
    "### Some of the commonly used libraries used by Data Scientists include:\n",
    "\n",
    "- **Python** – Widely used for its simplicity and powerful libraries like NumPy, pandas, scikit-learn, and TensorFlow.\n",
    "- **R** – Excellent for statistical analysis and data visualization.\n",
    "- **SQL** – Essential for querying and managing data in relational databases.\n",
    "- **Julia** – Known for high-performance numerical computing.\n",
    "- **Scala** – Often used with Apache Spark for big data processing.\n",
    "- **Java** – Sometimes used in large-scale data processing systems.\n",
    "- **MATLAB** – Used in academia and engineering for numerical analysis and simulations.\n",
    "\n",
    "These languages are chosen based on their strengths in handling, analyzing, and visualizing data.\n"
   ]
  },
  {
   "cell_type": "markdown",
   "metadata": {},
   "source": [
    "### 🔧 Data Science Tools\n",
    "\n",
    "| Category              | Tool Name          | Description                                                                 |\n",
    "|-----------------------|--------------------|-----------------------------------------------------------------------------|\n",
    "| Programming Language  | Python             | Versatile language popular for data analysis and machine learning.         |\n",
    "|                       | R                  | Statistical computing language with strong data visualization packages.    |\n",
    "| Data Manipulation     | Pandas             | Python library for data structures and analysis.                           |\n",
    "|                       | dplyr              | R package for data manipulation using a consistent grammar.                |\n",
    "| Data Visualization    | Matplotlib         | Python’s core plotting library.                                            |\n",
    "|                       | ggplot2            | Powerful R package for complex multi-layered plots.                        |\n",
    "| Machine Learning      | Scikit-learn       | Python library offering simple and efficient tools for data mining.        |\n",
    "|                       | TensorFlow         | Open-source platform for machine learning and deep learning by Google.     |\n",
    "|                       | XGBoost            | Optimized distributed gradient boosting library.                           |\n",
    "| Big Data              | Apache Spark       | Fast and general engine for big data processing.                           |\n",
    "|                       | Hadoop             | Open-source framework for distributed storage and processing.              |\n",
    "| Data Storage          | PostgreSQL         | Open-source relational database with powerful features.                    |\n",
    "|                       | MongoDB            | NoSQL database for flexible schema and scalability.                        |\n",
    "| Collaboration & IDEs  | Jupyter Notebook   | Interactive coding environment for Python and data visualization.          |\n",
    "|                       | RStudio            | IDE for R with tools to visualize, edit, and report data.                  |\n",
    "\n"
   ]
  },
  {
   "cell_type": "markdown",
   "metadata": {},
   "source": [
    "Below are a few examples of evaluating arithmetic expressions in Python"
   ]
  },
  {
   "cell_type": "code",
   "execution_count": null,
   "metadata": {},
   "outputs": [],
   "source": [
    "### ➕ Introduction to Arithmetic Expressions\n",
    "\n",
    "Arithmetic expressions are formulas that combine numbers, operators, and sometimes variables to perform basic calculations. They're foundational in math and programming!\n",
    "\n",
    "Here are a few examples to illustrate:\n",
    "\n",
    "- **Addition**:  \n",
    "  `5 + 3 = 8`\n",
    "\n",
    "- **Subtraction**:  \n",
    "  `10 - 4 = 6`\n",
    "\n",
    "- **Multiplication**:  \n",
    "  `7 * 2 = 14`\n",
    "\n",
    "- **Division**:  \n",
    "  `20 / 5 = 4`\n",
    "\n",
    "- **Combined operations** (with parentheses for clarity):  \n",
    "  `(3 + 2) * 4 = 20`\n",
    "\n",
    "These expressions follow the order of operations (PEMDAS/BODMAS), where parentheses and exponents are evaluated first, followed by multiplication/division, then addition/subtraction.\n",
    "\n"
   ]
  },
  {
   "cell_type": "code",
   "execution_count": 1,
   "metadata": {},
   "outputs": [
    {
     "name": "stdout",
     "output_type": "stream",
     "text": [
      "The result of (a * b) + c is: 17\n"
     ]
    }
   ],
   "source": [
    "# ✨ This a simple arithmetic expression to mutiply then add integers\n",
    "\n",
    "# Define the numbers\n",
    "a = 3\n",
    "b = 4\n",
    "c = 5\n",
    "\n",
    "# Perform multiplication and addition\n",
    "result = (a * b) + c\n",
    "\n",
    "# Display the result\n",
    "print(\"The result of (a * b) + c is:\", result)\n"
   ]
  },
  {
   "cell_type": "code",
   "execution_count": 2,
   "metadata": {},
   "outputs": [
    {
     "name": "stdout",
     "output_type": "stream",
     "text": [
      "200 minutes is equal to 3.3333333333333335 hours.\n"
     ]
    }
   ],
   "source": [
    "# This will convert 200 minutes to hours by diving by 60\n",
    "def minutes_to_hours(minutes):\n",
    "    hours = minutes / 60\n",
    "    return hours\n",
    "\n",
    "# Example usage\n",
    "minutes = 200\n",
    "hours = minutes_to_hours(minutes)\n",
    "print(f\"{minutes} minutes is equal to {hours} hours.\")"
   ]
  },
  {
   "cell_type": "markdown",
   "metadata": {},
   "source": [
    "### 🎯 Objectives\n",
    "\n",
    "Here are some common objectives that guide data science projects and learning:\n",
    "\n",
    "- **Understand the Problem**: Clearly define the question or issue you aim to solve with data.\n",
    "- **Collect Relevant Data**: Identify and gather datasets that are accurate, complete, and suitable.\n",
    "- **Clean and Prepare Data**: Handle missing values, correct inconsistencies, and format data appropriately.\n",
    "- **Explore the Data**: Use descriptive statistics and visualization to uncover patterns and insights.\n",
    "- **Build Predictive Models**: Apply machine learning algorithms to make informed predictions or classifications.\n",
    "- **Evaluate Model Performance**: Use metrics like accuracy, precision, and recall to assess the effectiveness of your models.\n",
    "- **Communicate Results**: Create reports or visualizations that clearly explain your findings to stakeholders.\n",
    "- **Make Data-Driven Decisions**: Use insights to inform strategic choices or operational improvements.\n",
    "\n"
   ]
  },
  {
   "cell_type": "markdown",
   "metadata": {},
   "source": [
    "### ✍️ Author\n",
    "\n",
    "**Name**: Jean Ungureanu\n",
    "**Role**: Data Science Enthusiast  \n",
    "**Location**: Greensboro, North Carolina  \n"
   ]
  }
 ],
 "metadata": {
  "kernelspec": {
   "display_name": "Python 3 (ipykernel)",
   "language": "python",
   "name": "python3"
  },
  "language_info": {
   "codemirror_mode": {
    "name": "ipython",
    "version": 3
   },
   "file_extension": ".py",
   "mimetype": "text/x-python",
   "name": "python",
   "nbconvert_exporter": "python",
   "pygments_lexer": "ipython3",
   "version": "3.12.8"
  }
 },
 "nbformat": 4,
 "nbformat_minor": 4
}
